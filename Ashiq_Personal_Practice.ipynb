{
  "nbformat": 4,
  "nbformat_minor": 0,
  "metadata": {
    "colab": {
      "provenance": [],
      "authorship_tag": "ABX9TyPj85Qakk0CCGjaBngtQdyM",
      "include_colab_link": true
    },
    "kernelspec": {
      "name": "python3",
      "display_name": "Python 3"
    },
    "language_info": {
      "name": "python"
    }
  },
  "cells": [
    {
      "cell_type": "markdown",
      "metadata": {
        "id": "view-in-github",
        "colab_type": "text"
      },
      "source": [
        "<a href=\"https://colab.research.google.com/github/Ashiq27/Learning/blob/main/Ashiq_Personal_Practice.ipynb\" target=\"_parent\"><img src=\"https://colab.research.google.com/assets/colab-badge.svg\" alt=\"Open In Colab\"/></a>"
      ]
    },
    {
      "cell_type": "code",
      "execution_count": null,
      "metadata": {
        "id": "VQ3fzreNdiHc",
        "colab": {
          "base_uri": "https://localhost:8080/"
        },
        "outputId": "85892d5c-0b85-4b41-9f74-ff19f32a099a"
      },
      "outputs": [
        {
          "output_type": "stream",
          "name": "stdout",
          "text": [
            "Hello World! <class 'str'>\n"
          ]
        }
      ],
      "source": [
        "sample_variable = \"Hello World!\"\n",
        "print(sample_variable, type(sample_variable))"
      ]
    },
    {
      "cell_type": "code",
      "source": [
        "sample_variable = \"153\"\n",
        "print(sample_variable, type(sample_variable))"
      ],
      "metadata": {
        "colab": {
          "base_uri": "https://localhost:8080/"
        },
        "id": "mn2YXpRAbk3O",
        "outputId": "20e84d16-4447-4f87-eac5-e4c15fb0e925"
      },
      "execution_count": null,
      "outputs": [
        {
          "output_type": "stream",
          "name": "stdout",
          "text": [
            "153 <class 'str'>\n"
          ]
        }
      ]
    },
    {
      "cell_type": "code",
      "source": [
        "sample_variable = \"Hello World!\"\n",
        "print(sample_variable, type(sample_variable))\n",
        "sample_variable1 = \"153\"\n",
        "print(sample_variable1, type(sample_variable1))\n",
        "sample_variable2 = 153\n",
        "print(sample_variable2, type(sample_variable2))\n",
        "sample_variable3 = 5.4\n",
        "print(sample_variable3, type(sample_variable3))"
      ],
      "metadata": {
        "colab": {
          "base_uri": "https://localhost:8080/"
        },
        "id": "cePBqZhlbtcv",
        "outputId": "713de3ca-ca96-4db6-b1c9-ab415079cb46"
      },
      "execution_count": null,
      "outputs": [
        {
          "output_type": "stream",
          "name": "stdout",
          "text": [
            "Hello World! <class 'str'>\n",
            "153 <class 'str'>\n",
            "153 <class 'int'>\n",
            "5.4 <class 'float'>\n"
          ]
        }
      ]
    },
    {
      "cell_type": "code",
      "source": [
        "#Concatenation\n",
        "a='5'\n",
        "b='6'\n",
        "a1=\"4.5\"\n",
        "b1=7\n",
        "c=a+b\n",
        "print(c, type(c))\n",
        "c=a+a1\n",
        "print(c, type(c))\n",
        "c=a+b1\n",
        "print(c, type(c))"
      ],
      "metadata": {
        "colab": {
          "base_uri": "https://localhost:8080/",
          "height": 271
        },
        "id": "xWZuxrp0enhD",
        "outputId": "cc9a0176-5cbc-47d5-a94c-026142f786cf"
      },
      "execution_count": null,
      "outputs": [
        {
          "output_type": "stream",
          "name": "stdout",
          "text": [
            "56 <class 'str'>\n",
            "54.5 <class 'str'>\n"
          ]
        },
        {
          "output_type": "error",
          "ename": "TypeError",
          "evalue": "ignored",
          "traceback": [
            "\u001b[0;31m---------------------------------------------------------------------------\u001b[0m",
            "\u001b[0;31mTypeError\u001b[0m                                 Traceback (most recent call last)",
            "\u001b[0;32m<ipython-input-5-cfdf12e34ff8>\u001b[0m in \u001b[0;36m<cell line: 10>\u001b[0;34m()\u001b[0m\n\u001b[1;32m      8\u001b[0m \u001b[0mc\u001b[0m\u001b[0;34m=\u001b[0m\u001b[0ma\u001b[0m\u001b[0;34m+\u001b[0m\u001b[0ma1\u001b[0m\u001b[0;34m\u001b[0m\u001b[0;34m\u001b[0m\u001b[0m\n\u001b[1;32m      9\u001b[0m \u001b[0mprint\u001b[0m\u001b[0;34m(\u001b[0m\u001b[0mc\u001b[0m\u001b[0;34m,\u001b[0m \u001b[0mtype\u001b[0m\u001b[0;34m(\u001b[0m\u001b[0mc\u001b[0m\u001b[0;34m)\u001b[0m\u001b[0;34m)\u001b[0m\u001b[0;34m\u001b[0m\u001b[0;34m\u001b[0m\u001b[0m\n\u001b[0;32m---> 10\u001b[0;31m \u001b[0mc\u001b[0m\u001b[0;34m=\u001b[0m\u001b[0ma\u001b[0m\u001b[0;34m+\u001b[0m\u001b[0mb1\u001b[0m\u001b[0;34m\u001b[0m\u001b[0;34m\u001b[0m\u001b[0m\n\u001b[0m\u001b[1;32m     11\u001b[0m \u001b[0mprint\u001b[0m\u001b[0;34m(\u001b[0m\u001b[0mc\u001b[0m\u001b[0;34m,\u001b[0m \u001b[0mtype\u001b[0m\u001b[0;34m(\u001b[0m\u001b[0mc\u001b[0m\u001b[0;34m)\u001b[0m\u001b[0;34m)\u001b[0m\u001b[0;34m\u001b[0m\u001b[0;34m\u001b[0m\u001b[0m\n",
            "\u001b[0;31mTypeError\u001b[0m: can only concatenate str (not \"int\") to str"
          ]
        }
      ]
    },
    {
      "cell_type": "code",
      "source": [
        "c1=5\n",
        "print(\"The value of C1 = \", float(c1))\n",
        "c1=float(c1)\n",
        "print(c1)"
      ],
      "metadata": {
        "colab": {
          "base_uri": "https://localhost:8080/"
        },
        "id": "UR0pTyqmpirf",
        "outputId": "0efb8d0a-e6b7-4cb2-a0ff-607c99b026b3"
      },
      "execution_count": null,
      "outputs": [
        {
          "output_type": "stream",
          "name": "stdout",
          "text": [
            "The value of C1 =  5.0\n",
            "5.0\n"
          ]
        }
      ]
    },
    {
      "cell_type": "code",
      "source": [
        "V1 = \"Special\"\n",
        "length_of_V1 = len(V1)-1\n",
        "print(len(V1)-1)"
      ],
      "metadata": {
        "colab": {
          "base_uri": "https://localhost:8080/"
        },
        "id": "q22GeTlO-Zhw",
        "outputId": "f55a3a6d-86df-480b-b060-ea9381f8589e"
      },
      "execution_count": null,
      "outputs": [
        {
          "output_type": "stream",
          "name": "stdout",
          "text": [
            "6\n"
          ]
        }
      ]
    },
    {
      "cell_type": "code",
      "source": [
        "\n",
        "print(length_of_V1)"
      ],
      "metadata": {
        "colab": {
          "base_uri": "https://localhost:8080/"
        },
        "id": "JVMBKA7SJPM_",
        "outputId": "b9b35755-6f25-4859-c0df-b83b211b8b1e"
      },
      "execution_count": null,
      "outputs": [
        {
          "output_type": "stream",
          "name": "stdout",
          "text": [
            "6\n"
          ]
        }
      ]
    },
    {
      "cell_type": "code",
      "source": [
        "print(V1[4])"
      ],
      "metadata": {
        "colab": {
          "base_uri": "https://localhost:8080/"
        },
        "id": "lJNP0a_oKF6A",
        "outputId": "aa96c803-a3d7-4591-a595-13d9a9e02d54"
      },
      "execution_count": null,
      "outputs": [
        {
          "output_type": "stream",
          "name": "stdout",
          "text": [
            "i\n"
          ]
        }
      ]
    },
    {
      "cell_type": "code",
      "source": [
        "print(V1[-1])"
      ],
      "metadata": {
        "colab": {
          "base_uri": "https://localhost:8080/"
        },
        "id": "keVxG1rdMOBI",
        "outputId": "ad8d2065-7335-410b-8da2-e755b073dd2e"
      },
      "execution_count": null,
      "outputs": [
        {
          "output_type": "stream",
          "name": "stdout",
          "text": [
            "l\n"
          ]
        }
      ]
    },
    {
      "cell_type": "code",
      "source": [
        "print(V1[::-1])"
      ],
      "metadata": {
        "colab": {
          "base_uri": "https://localhost:8080/"
        },
        "id": "YAm9g7_rMUI-",
        "outputId": "e1f17f7c-3106-471e-d65c-6e515393370a"
      },
      "execution_count": null,
      "outputs": [
        {
          "output_type": "stream",
          "name": "stdout",
          "text": [
            "laicepS\n"
          ]
        }
      ]
    },
    {
      "cell_type": "code",
      "source": [
        "print(V1[::1])"
      ],
      "metadata": {
        "colab": {
          "base_uri": "https://localhost:8080/"
        },
        "id": "ke0LGB4ZMYhw",
        "outputId": "661b9ae6-f29b-4bdc-f15d-fd48ea30bc51"
      },
      "execution_count": null,
      "outputs": [
        {
          "output_type": "stream",
          "name": "stdout",
          "text": [
            "Special\n"
          ]
        }
      ]
    },
    {
      "cell_type": "code",
      "source": [
        "print(V1[1::])"
      ],
      "metadata": {
        "colab": {
          "base_uri": "https://localhost:8080/"
        },
        "id": "YSHFJXurMnMg",
        "outputId": "91d2143c-b038-4901-abf4-27447e93709b"
      },
      "execution_count": null,
      "outputs": [
        {
          "output_type": "stream",
          "name": "stdout",
          "text": [
            "pecial\n"
          ]
        }
      ]
    },
    {
      "cell_type": "code",
      "source": [
        "print(V1[:1:1])"
      ],
      "metadata": {
        "colab": {
          "base_uri": "https://localhost:8080/"
        },
        "id": "ByDjFm6IMr3Y",
        "outputId": "a958a2f8-7779-44e1-ea0a-a3a251aa9e05"
      },
      "execution_count": null,
      "outputs": [
        {
          "output_type": "stream",
          "name": "stdout",
          "text": [
            "S\n"
          ]
        }
      ]
    },
    {
      "cell_type": "code",
      "source": [
        "P1= \"Bird\"\n",
        "print"
      ],
      "metadata": {
        "colab": {
          "base_uri": "https://localhost:8080/",
          "height": 199
        },
        "id": "f4hOSQBFNEM-",
        "outputId": "6ad7ec0c-aa8a-4de6-a687-38a10f13e5df"
      },
      "execution_count": null,
      "outputs": [
        {
          "output_type": "error",
          "ename": "IndexError",
          "evalue": "ignored",
          "traceback": [
            "\u001b[0;31m---------------------------------------------------------------------------\u001b[0m",
            "\u001b[0;31mIndexError\u001b[0m                                Traceback (most recent call last)",
            "\u001b[0;32m<ipython-input-2-25de6d413e89>\u001b[0m in \u001b[0;36m<cell line: 2>\u001b[0;34m()\u001b[0m\n\u001b[1;32m      1\u001b[0m \u001b[0mP1\u001b[0m\u001b[0;34m=\u001b[0m \u001b[0;34m\"Bird\"\u001b[0m\u001b[0;34m\u001b[0m\u001b[0;34m\u001b[0m\u001b[0m\n\u001b[0;32m----> 2\u001b[0;31m \u001b[0mprint\u001b[0m\u001b[0;34m(\u001b[0m\u001b[0mP1\u001b[0m\u001b[0;34m[\u001b[0m\u001b[0mlen\u001b[0m\u001b[0;34m(\u001b[0m\u001b[0mP1\u001b[0m\u001b[0;34m)\u001b[0m\u001b[0;34m]\u001b[0m\u001b[0;34m)\u001b[0m\u001b[0;34m\u001b[0m\u001b[0;34m\u001b[0m\u001b[0m\n\u001b[0m",
            "\u001b[0;31mIndexError\u001b[0m: string index out of range"
          ]
        }
      ]
    },
    {
      "cell_type": "markdown",
      "source": [
        "# #**Worked items**"
      ],
      "metadata": {
        "id": "QzYsFuEsJOqc"
      }
    },
    {
      "cell_type": "code",
      "source": [
        "#from itertools import product\n",
        "colors = [\"yellow\", \"orange\", \"blue\"]\n",
        "sizes = [\"S\", \"L\", \"M\", \"XL\", \"XXL\"]\n",
        "combination = [(color, size) for color in colors\n",
        "                    for size in sizes]\n",
        "for items in combination:\n",
        "  print(items)\n"
      ],
      "metadata": {
        "id": "7t0BlmER9zdl",
        "colab": {
          "base_uri": "https://localhost:8080/"
        },
        "outputId": "92616373-995a-4a68-d71e-8cfa62996183"
      },
      "execution_count": null,
      "outputs": [
        {
          "output_type": "stream",
          "name": "stdout",
          "text": [
            "('yellow', 'S')\n",
            "('yellow', 'L')\n",
            "('yellow', 'M')\n",
            "('yellow', 'XL')\n",
            "('yellow', 'XXL')\n",
            "('orange', 'S')\n",
            "('orange', 'L')\n",
            "('orange', 'M')\n",
            "('orange', 'XL')\n",
            "('orange', 'XXL')\n",
            "('blue', 'S')\n",
            "('blue', 'L')\n",
            "('blue', 'M')\n",
            "('blue', 'XL')\n",
            "('blue', 'XXL')\n"
          ]
        }
      ]
    },
    {
      "cell_type": "code",
      "source": [
        "purchase_amount = 5000\n",
        "if purchase_amount > 500:\n",
        "  print(\"discount is provided\")\n",
        "else:\n",
        "  print(\"discount not provided\")"
      ],
      "metadata": {
        "id": "wdcTwn3BFovk",
        "colab": {
          "base_uri": "https://localhost:8080/"
        },
        "outputId": "3b3d9367-97aa-4315-825c-810057ccd719"
      },
      "execution_count": null,
      "outputs": [
        {
          "output_type": "stream",
          "name": "stdout",
          "text": [
            "discount is provided\n"
          ]
        }
      ]
    },
    {
      "cell_type": "code",
      "source": [
        "purchase_amount = 700\n",
        "if purchase_amount < 500:\n",
        "  discount_amount = (purchase_amount/100)*1\n",
        "  print(\"Please do a discount amount of \", discount_amount)\n",
        "elif purchase_amount > 500:\n",
        "  discount_amount = (purchase_amount/100)*10\n",
        "  print(\"Please do a discount amount of \", discount_amount)\n",
        "else:\n",
        "  print(\"invalid\")\n"
      ],
      "metadata": {
        "colab": {
          "base_uri": "https://localhost:8080/"
        },
        "id": "GQFDy9Z1p_Z1",
        "outputId": "ed092227-9508-4e26-a114-3d76321eec02"
      },
      "execution_count": null,
      "outputs": [
        {
          "output_type": "stream",
          "name": "stdout",
          "text": [
            "Please do a discount amount of  70.0\n"
          ]
        }
      ]
    },
    {
      "cell_type": "code",
      "source": [
        "a=True\n",
        "b=False\n",
        "type(a), type(b)"
      ],
      "metadata": {
        "id": "7IfW0KgwrIeO",
        "colab": {
          "base_uri": "https://localhost:8080/"
        },
        "outputId": "37a0c1b1-a706-44e7-c1af-f09c0e96149f"
      },
      "execution_count": null,
      "outputs": [
        {
          "output_type": "execute_result",
          "data": {
            "text/plain": [
              "(bool, bool)"
            ]
          },
          "metadata": {},
          "execution_count": 4
        }
      ]
    },
    {
      "cell_type": "code",
      "source": [
        "a=int(False)\n",
        "print(\"bool to int: \", a)\n",
        "b=float(True)\n",
        "print(\"bool to float: \", b)\n",
        "c=complex(False)\n",
        "print(\"bool to complex: \", c)"
      ],
      "metadata": {
        "colab": {
          "base_uri": "https://localhost:8080/"
        },
        "id": "uif80lLQEcuk",
        "outputId": "79e6d9de-356a-4502-b08c-1a89b4df11b0"
      },
      "execution_count": null,
      "outputs": [
        {
          "output_type": "stream",
          "name": "stdout",
          "text": [
            "bool to int:  0\n",
            "bool to float:  1.0\n",
            "bool to complex:  0j\n"
          ]
        }
      ]
    },
    {
      "cell_type": "code",
      "source": [
        "marks = 25\n",
        "result : \"\"\n",
        "if marks <= 30:\n",
        "  result = \"failed\"\n",
        "elif marks >80:\n",
        "  result = \"Passed with distinction\"\n",
        "elif marks >= 60:\n",
        "  result = \"Passed in 1st class\"\n",
        "elif marks >= 40:\n",
        "  result = \"Passed\"\n",
        "else:\n",
        "  result = \"failed\"\n",
        "\n",
        "print(result)"
      ],
      "metadata": {
        "colab": {
          "base_uri": "https://localhost:8080/"
        },
        "id": "o-iyYvfBFU9e",
        "outputId": "bd781da9-28c6-4237-eb04-03b20ff9b3f4"
      },
      "execution_count": null,
      "outputs": [
        {
          "output_type": "stream",
          "name": "stdout",
          "text": [
            "failed\n"
          ]
        }
      ]
    },
    {
      "cell_type": "code",
      "source": [
        "def Check_Vowel(n):\n",
        "  match n:\n",
        "    case \"a\": return \"Vowel alphabet\"\n",
        "    case \"e\": return \"Vowel alphabet\"\n",
        "    case _: return \"simple alphabet\"\n",
        "print(Check_Vowel(\"a\"))\n",
        "print(Check_Vowel(\"j\"))"
      ],
      "metadata": {
        "colab": {
          "base_uri": "https://localhost:8080/"
        },
        "id": "zKK4O9EaHkZX",
        "outputId": "5b2ae007-cec5-4201-ea0f-531d2bc92372"
      },
      "execution_count": null,
      "outputs": [
        {
          "output_type": "stream",
          "name": "stdout",
          "text": [
            "Vowel alphabet\n",
            "simple alphabet\n"
          ]
        }
      ]
    },
    {
      "cell_type": "code",
      "source": [
        "words = [\"one\", \"two\", \"three\"]\n",
        "for x in words:\n",
        "  print(x)"
      ],
      "metadata": {
        "colab": {
          "base_uri": "https://localhost:8080/"
        },
        "id": "Ijtx3s9vNJC5",
        "outputId": "acfca4b6-40a4-44dd-a239-972b50f115f9"
      },
      "execution_count": null,
      "outputs": [
        {
          "output_type": "stream",
          "name": "stdout",
          "text": [
            "one\n",
            "two\n",
            "three\n"
          ]
        }
      ]
    },
    {
      "cell_type": "code",
      "source": [
        "i = 1\n",
        "while i <10:\n",
        "  print(i)\n",
        "  i += 1"
      ],
      "metadata": {
        "colab": {
          "base_uri": "https://localhost:8080/"
        },
        "id": "lAqLbY20VWX4",
        "outputId": "4d41163a-5f29-4666-85ba-546bd198ff39"
      },
      "execution_count": null,
      "outputs": [
        {
          "output_type": "stream",
          "name": "stdout",
          "text": [
            "1\n",
            "2\n",
            "3\n",
            "4\n",
            "5\n",
            "6\n",
            "7\n",
            "8\n",
            "9\n"
          ]
        }
      ]
    },
    {
      "cell_type": "code",
      "source": [
        "age = 15\n",
        "print((\"age: \"), age)\n",
        "if age >=18:\n",
        "  print(\"Eligible to vote\")\n",
        "else:\n",
        "  print(\"Not eligible to vote\")"
      ],
      "metadata": {
        "colab": {
          "base_uri": "https://localhost:8080/"
        },
        "id": "donEayurV6ih",
        "outputId": "551fde0b-4c01-4c2c-f2c4-0693e1d74035"
      },
      "execution_count": null,
      "outputs": [
        {
          "output_type": "stream",
          "name": "stdout",
          "text": [
            "age:  15\n",
            "Not eligible to vote\n"
          ]
        }
      ]
    },
    {
      "cell_type": "code",
      "source": [
        "numbers = list(map(int,input().split(\" \")))\n",
        "print(numbers)"
      ],
      "metadata": {
        "id": "HFCxcZL8ub4l",
        "colab": {
          "base_uri": "https://localhost:8080/"
        },
        "outputId": "4a1a64d4-8969-4dde-a089-a1fc3e4d2012"
      },
      "execution_count": null,
      "outputs": [
        {
          "output_type": "stream",
          "name": "stdout",
          "text": [
            "5 4 2 1 3\n",
            "[5, 4, 2, 1, 3]\n"
          ]
        }
      ]
    },
    {
      "cell_type": "code",
      "source": [
        "numbers = list(map(int,input().split(\" \")))\n",
        "maxi = numbers[0]\n",
        "for number in numbers:\n",
        "  if number>maxi:\n",
        "    maxi=number\n",
        "  else:\n",
        "    continue\n",
        "print(\"maximum value is: \", maxi)"
      ],
      "metadata": {
        "colab": {
          "base_uri": "https://localhost:8080/"
        },
        "id": "DJMpNbMYVYrU",
        "outputId": "dbe20abe-0815-4ce2-a0c6-195a9975a68d"
      },
      "execution_count": null,
      "outputs": [
        {
          "output_type": "stream",
          "name": "stdout",
          "text": [
            "1 2 3\n",
            "maximum value is:  3\n"
          ]
        }
      ]
    },
    {
      "cell_type": "code",
      "source": [
        "customer1 =58\n",
        "customer2 = 60\n",
        "if customer1 < 70:\n",
        "  print (\"customer removed\")\n",
        "if customer2 > 45:\n",
        "  print (\"customer is considered\")"
      ],
      "metadata": {
        "id": "JGgtBGgPSLVB",
        "colab": {
          "base_uri": "https://localhost:8080/"
        },
        "outputId": "734742e9-3822-4eb5-8490-ae32bce25a40"
      },
      "execution_count": null,
      "outputs": [
        {
          "output_type": "stream",
          "name": "stdout",
          "text": [
            "customer removed\n",
            "customer is considered\n"
          ]
        }
      ]
    },
    {
      "cell_type": "code",
      "source": [
        "import pandas as pd"
      ],
      "metadata": {
        "id": "m5gyxvfm3h18"
      },
      "execution_count": null,
      "outputs": []
    },
    {
      "cell_type": "code",
      "source": [],
      "metadata": {
        "id": "MbKFQpA26DuK"
      },
      "execution_count": null,
      "outputs": []
    }
  ]
}